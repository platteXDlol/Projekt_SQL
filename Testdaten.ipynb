{
    "metadata": {
        "kernelspec": {
            "name": "SQL",
            "display_name": "SQL",
            "language": "sql"
        },
        "language_info": {
            "name": "sql",
            "version": ""
        }
    },
    "nbformat_minor": 2,
    "nbformat": 4,
    "cells": [
        {
            "cell_type": "code",
            "source": [
                "USE UniDatenbank;\r\n",
                "select raum \r\n",
                "from Professoren \r\n",
                "where Vorname = 'Peter' and Nachname = 'Von Matt'"
            ],
            "metadata": {
                "azdata_cell_guid": "09b4b1db-b26e-4523-9731-2153094e4cdf",
                "language": "sql"
            },
            "outputs": [
                {
                    "output_type": "display_data",
                    "data": {
                        "text/html": "(1 row affected)"
                    },
                    "metadata": {}
                },
                {
                    "output_type": "display_data",
                    "data": {
                        "text/html": "Total execution time: 00:00:00.049"
                    },
                    "metadata": {}
                },
                {
                    "output_type": "execute_result",
                    "metadata": {},
                    "execution_count": 2,
                    "data": {
                        "application/vnd.dataresource+json": {
                            "schema": {
                                "fields": [
                                    {
                                        "name": "raum"
                                    }
                                ]
                            },
                            "data": [
                                {
                                    "raum": "8"
                                }
                            ]
                        },
                        "text/html": [
                            "<table>",
                            "<tr><th>raum</th></tr>",
                            "<tr><td>8</td></tr>",
                            "</table>"
                        ]
                    }
                }
            ],
            "execution_count": 2
        },
        {
            "cell_type": "code",
            "source": [
                "USE UniDatenbank;\r\n",
                "select count(*) as Anzahl_Studenten\r\n",
                "from Studenten \r\n",
                "where Studienbeginn < '20190101'"
            ],
            "metadata": {
                "azdata_cell_guid": "3bb6ea51-5aa3-4bf3-b033-284d338230c0",
                "language": "sql"
            },
            "outputs": [
                {
                    "output_type": "display_data",
                    "data": {
                        "text/html": "(1 row affected)"
                    },
                    "metadata": {}
                },
                {
                    "output_type": "display_data",
                    "data": {
                        "text/html": "Total execution time: 00:00:00.009"
                    },
                    "metadata": {}
                },
                {
                    "output_type": "execute_result",
                    "metadata": {},
                    "execution_count": 3,
                    "data": {
                        "application/vnd.dataresource+json": {
                            "schema": {
                                "fields": [
                                    {
                                        "name": "Anzahl_Studenten"
                                    }
                                ]
                            },
                            "data": [
                                {
                                    "Anzahl_Studenten": "5"
                                }
                            ]
                        },
                        "text/html": [
                            "<table>",
                            "<tr><th>Anzahl_Studenten</th></tr>",
                            "<tr><td>5</td></tr>",
                            "</table>"
                        ]
                    }
                }
            ],
            "execution_count": 3
        },
        {
            "cell_type": "code",
            "source": [
                "USE UniDatenbank;\r\n",
                "select count(*) as Anzahl_Assisten_ohne_Chef\r\n",
                "from Assistenten\r\n",
                "where Chef is null"
            ],
            "metadata": {
                "azdata_cell_guid": "3fe6ca94-9961-4bf2-9e18-fcb48657d712",
                "language": "sql"
            },
            "outputs": [
                {
                    "output_type": "display_data",
                    "data": {
                        "text/html": "(1 row affected)"
                    },
                    "metadata": {}
                },
                {
                    "output_type": "display_data",
                    "data": {
                        "text/html": "Total execution time: 00:00:00.005"
                    },
                    "metadata": {}
                },
                {
                    "output_type": "execute_result",
                    "metadata": {},
                    "execution_count": 4,
                    "data": {
                        "application/vnd.dataresource+json": {
                            "schema": {
                                "fields": [
                                    {
                                        "name": "Anzahl_Assisten_ohne_Chef"
                                    }
                                ]
                            },
                            "data": [
                                {
                                    "Anzahl_Assisten_ohne_Chef": "2"
                                }
                            ]
                        },
                        "text/html": [
                            "<table>",
                            "<tr><th>Anzahl_Assisten_ohne_Chef</th></tr>",
                            "<tr><td>2</td></tr>",
                            "</table>"
                        ]
                    }
                }
            ],
            "execution_count": 4
        },
        {
            "cell_type": "code",
            "source": [
                "USE UniDatenbank;\r\n",
                "select Vorname + ' ' + Nachname as 'Name'\r\n",
                "from Assistenten \r\n",
                "where Vorname like '_r%'"
            ],
            "metadata": {
                "azdata_cell_guid": "49fe71e0-a3b6-4dc4-9618-ff78944feecf",
                "language": "sql"
            },
            "outputs": [
                {
                    "output_type": "display_data",
                    "data": {
                        "text/html": "(2 rows affected)"
                    },
                    "metadata": {}
                },
                {
                    "output_type": "display_data",
                    "data": {
                        "text/html": "Total execution time: 00:00:00.011"
                    },
                    "metadata": {}
                },
                {
                    "output_type": "execute_result",
                    "metadata": {},
                    "execution_count": 6,
                    "data": {
                        "application/vnd.dataresource+json": {
                            "schema": {
                                "fields": [
                                    {
                                        "name": "Name"
                                    }
                                ]
                            },
                            "data": [
                                {
                                    "Name": "Cristiano Ronaldo"
                                },
                                {
                                    "Name": "Arjen Robben"
                                }
                            ]
                        },
                        "text/html": [
                            "<table>",
                            "<tr><th>Name</th></tr>",
                            "<tr><td>Cristiano Ronaldo</td></tr>",
                            "<tr><td>Arjen Robben</td></tr>",
                            "</table>"
                        ]
                    }
                }
            ],
            "execution_count": 6
        },
        {
            "cell_type": "code",
            "source": [
                "USE UniDatenbank;\r\n",
                "select min(Geburtsdatum) \r\n",
                "from Assistenten "
            ],
            "metadata": {
                "azdata_cell_guid": "e650b8cc-bdfb-49da-b797-335b337ab55c",
                "language": "sql"
            },
            "outputs": [
                {
                    "output_type": "display_data",
                    "data": {
                        "text/html": "(1 row affected)"
                    },
                    "metadata": {}
                },
                {
                    "output_type": "display_data",
                    "data": {
                        "text/html": "Total execution time: 00:00:00.012"
                    },
                    "metadata": {}
                },
                {
                    "output_type": "execute_result",
                    "metadata": {},
                    "execution_count": 7,
                    "data": {
                        "application/vnd.dataresource+json": {
                            "schema": {
                                "fields": [
                                    {
                                        "name": "(No column name)"
                                    }
                                ]
                            },
                            "data": [
                                {
                                    "(No column name)": "1979-05-19 00:00:00"
                                }
                            ]
                        },
                        "text/html": [
                            "<table>",
                            "<tr><th>(No column name)</th></tr>",
                            "<tr><td>1979-05-19 00:00:00</td></tr>",
                            "</table>"
                        ]
                    }
                }
            ],
            "execution_count": 7
        },
        {
            "cell_type": "code",
            "source": [
                "USE UniDatenbank;\r\n",
                "select count(*)  as Anzahl_Studenten\r\n",
                "from Studenten \r\n",
                "where MatrNr like '13-%'\r\n",
                "\r\n",
                "select * from assistenten"
            ],
            "metadata": {
                "azdata_cell_guid": "6853c84c-e6f5-4267-93a2-9ff77361eb66",
                "language": "sql"
            },
            "outputs": [
                {
                    "output_type": "display_data",
                    "data": {
                        "text/html": "(1 row affected)"
                    },
                    "metadata": {}
                },
                {
                    "output_type": "display_data",
                    "data": {
                        "text/html": "(10 rows affected)"
                    },
                    "metadata": {}
                },
                {
                    "output_type": "display_data",
                    "data": {
                        "text/html": "Total execution time: 00:00:00.013"
                    },
                    "metadata": {}
                },
                {
                    "output_type": "execute_result",
                    "metadata": {},
                    "execution_count": 8,
                    "data": {
                        "application/vnd.dataresource+json": {
                            "schema": {
                                "fields": [
                                    {
                                        "name": "Anzahl_Studenten"
                                    }
                                ]
                            },
                            "data": [
                                {
                                    "Anzahl_Studenten": "5"
                                }
                            ]
                        },
                        "text/html": [
                            "<table>",
                            "<tr><th>Anzahl_Studenten</th></tr>",
                            "<tr><td>5</td></tr>",
                            "</table>"
                        ]
                    }
                },
                {
                    "output_type": "execute_result",
                    "metadata": {},
                    "execution_count": 8,
                    "data": {
                        "application/vnd.dataresource+json": {
                            "schema": {
                                "fields": [
                                    {
                                        "name": "PersNr"
                                    },
                                    {
                                        "name": "Vorname"
                                    },
                                    {
                                        "name": "Nachname"
                                    },
                                    {
                                        "name": "Chef"
                                    },
                                    {
                                        "name": "Geburtsdatum"
                                    }
                                ]
                            },
                            "data": [
                                {
                                    "PersNr": "1",
                                    "Vorname": "Lionel",
                                    "Nachname": "Messi",
                                    "Chef": "NULL",
                                    "Geburtsdatum": "1987-06-24 00:00:00"
                                },
                                {
                                    "PersNr": "2",
                                    "Vorname": "Xherdan",
                                    "Nachname": "Shaqiri",
                                    "Chef": "4",
                                    "Geburtsdatum": "1991-10-10 00:00:00"
                                },
                                {
                                    "PersNr": "3",
                                    "Vorname": "Sami",
                                    "Nachname": "Khedira",
                                    "Chef": "3",
                                    "Geburtsdatum": "1987-04-04 00:00:00"
                                },
                                {
                                    "PersNr": "4",
                                    "Vorname": "Cristiano",
                                    "Nachname": "Ronaldo",
                                    "Chef": "3",
                                    "Geburtsdatum": "1985-02-05 00:00:00"
                                },
                                {
                                    "PersNr": "5",
                                    "Vorname": "Wayne",
                                    "Nachname": "Rooney",
                                    "Chef": "NULL",
                                    "Geburtsdatum": "1985-10-24 00:00:00"
                                },
                                {
                                    "PersNr": "6",
                                    "Vorname": "Arjen",
                                    "Nachname": "Robben",
                                    "Chef": "7",
                                    "Geburtsdatum": "1984-01-23 00:00:00"
                                },
                                {
                                    "PersNr": "7",
                                    "Vorname": "Andrea",
                                    "Nachname": "Pirlo",
                                    "Chef": "1",
                                    "Geburtsdatum": "1979-05-19 00:00:00"
                                },
                                {
                                    "PersNr": "8",
                                    "Vorname": "Robert",
                                    "Nachname": "Lewandowski",
                                    "Chef": "3",
                                    "Geburtsdatum": "1988-08-21 00:00:00"
                                },
                                {
                                    "PersNr": "9",
                                    "Vorname": "Luis",
                                    "Nachname": "Suàrez",
                                    "Chef": "5",
                                    "Geburtsdatum": "1987-01-24 00:00:00"
                                },
                                {
                                    "PersNr": "10",
                                    "Vorname": "Alexis",
                                    "Nachname": "Sanchez",
                                    "Chef": "2",
                                    "Geburtsdatum": "1988-12-19 00:00:00"
                                }
                            ]
                        },
                        "text/html": [
                            "<table>",
                            "<tr><th>PersNr</th><th>Vorname</th><th>Nachname</th><th>Chef</th><th>Geburtsdatum</th></tr>",
                            "<tr><td>1</td><td>Lionel</td><td>Messi</td><td>NULL</td><td>1987-06-24 00:00:00</td></tr>",
                            "<tr><td>2</td><td>Xherdan</td><td>Shaqiri</td><td>4</td><td>1991-10-10 00:00:00</td></tr>",
                            "<tr><td>3</td><td>Sami</td><td>Khedira</td><td>3</td><td>1987-04-04 00:00:00</td></tr>",
                            "<tr><td>4</td><td>Cristiano</td><td>Ronaldo</td><td>3</td><td>1985-02-05 00:00:00</td></tr>",
                            "<tr><td>5</td><td>Wayne</td><td>Rooney</td><td>NULL</td><td>1985-10-24 00:00:00</td></tr>",
                            "<tr><td>6</td><td>Arjen</td><td>Robben</td><td>7</td><td>1984-01-23 00:00:00</td></tr>",
                            "<tr><td>7</td><td>Andrea</td><td>Pirlo</td><td>1</td><td>1979-05-19 00:00:00</td></tr>",
                            "<tr><td>8</td><td>Robert</td><td>Lewandowski</td><td>3</td><td>1988-08-21 00:00:00</td></tr>",
                            "<tr><td>9</td><td>Luis</td><td>Suàrez</td><td>5</td><td>1987-01-24 00:00:00</td></tr>",
                            "<tr><td>10</td><td>Alexis</td><td>Sanchez</td><td>2</td><td>1988-12-19 00:00:00</td></tr>",
                            "</table>"
                        ]
                    }
                }
            ],
            "execution_count": 8
        },
        {
            "cell_type": "code",
            "source": [
                "USE UniDatenbank;\r\n",
                "select vorname, nachname \r\n",
                "from Studenten \r\n",
                "where vorname like '%a%'\r\n",
                "order by Nachname desc"
            ],
            "metadata": {
                "azdata_cell_guid": "5f1f11ca-ba93-4897-855d-2811a46ad192",
                "language": "sql"
            },
            "outputs": [
                {
                    "output_type": "display_data",
                    "data": {
                        "text/html": "(11 rows affected)"
                    },
                    "metadata": {}
                },
                {
                    "output_type": "display_data",
                    "data": {
                        "text/html": "Total execution time: 00:00:00.009"
                    },
                    "metadata": {}
                },
                {
                    "output_type": "execute_result",
                    "metadata": {},
                    "execution_count": 9,
                    "data": {
                        "application/vnd.dataresource+json": {
                            "schema": {
                                "fields": [
                                    {
                                        "name": "vorname"
                                    },
                                    {
                                        "name": "nachname"
                                    }
                                ]
                            },
                            "data": [
                                {
                                    "vorname": "Priska",
                                    "nachname": "Weber"
                                },
                                {
                                    "vorname": "Slobodan",
                                    "nachname": "Stojanovic"
                                },
                                {
                                    "vorname": "Zoran",
                                    "nachname": "Stefanovski"
                                },
                                {
                                    "vorname": "Marco",
                                    "nachname": "Maggi"
                                },
                                {
                                    "vorname": "Jean-Paul",
                                    "nachname": "Léchenne"
                                },
                                {
                                    "vorname": "Martin",
                                    "nachname": "Isler"
                                },
                                {
                                    "vorname": "Marian",
                                    "nachname": "Genkinger"
                                },
                                {
                                    "vorname": "Hans",
                                    "nachname": "Dubach"
                                },
                                {
                                    "vorname": "Paolo",
                                    "nachname": "Di Lavello"
                                },
                                {
                                    "vorname": "Eliane",
                                    "nachname": "Burri"
                                },
                                {
                                    "vorname": "Slobodanka",
                                    "nachname": "Babaja"
                                }
                            ]
                        },
                        "text/html": [
                            "<table>",
                            "<tr><th>vorname</th><th>nachname</th></tr>",
                            "<tr><td>Priska</td><td>Weber</td></tr>",
                            "<tr><td>Slobodan</td><td>Stojanovic</td></tr>",
                            "<tr><td>Zoran</td><td>Stefanovski</td></tr>",
                            "<tr><td>Marco</td><td>Maggi</td></tr>",
                            "<tr><td>Jean-Paul</td><td>Léchenne</td></tr>",
                            "<tr><td>Martin</td><td>Isler</td></tr>",
                            "<tr><td>Marian</td><td>Genkinger</td></tr>",
                            "<tr><td>Hans</td><td>Dubach</td></tr>",
                            "<tr><td>Paolo</td><td>Di Lavello</td></tr>",
                            "<tr><td>Eliane</td><td>Burri</td></tr>",
                            "<tr><td>Slobodanka</td><td>Babaja</td></tr>",
                            "</table>"
                        ]
                    }
                }
            ],
            "execution_count": 9
        },
        {
            "cell_type": "code",
            "source": [
                "USE UniDatenbank;\r\n",
                "select count(*) as Anzahl_Prüfungen\r\n",
                "from Pruefungen \r\n",
                "where not note is null"
            ],
            "metadata": {
                "azdata_cell_guid": "bec6cf40-3b1e-4096-aa0f-55c370161529",
                "language": "sql"
            },
            "outputs": [
                {
                    "output_type": "display_data",
                    "data": {
                        "text/html": "(1 row affected)"
                    },
                    "metadata": {}
                },
                {
                    "output_type": "display_data",
                    "data": {
                        "text/html": "Total execution time: 00:00:00.005"
                    },
                    "metadata": {}
                },
                {
                    "output_type": "execute_result",
                    "metadata": {},
                    "execution_count": 10,
                    "data": {
                        "application/vnd.dataresource+json": {
                            "schema": {
                                "fields": [
                                    {
                                        "name": "Anzahl_Prüfungen"
                                    }
                                ]
                            },
                            "data": [
                                {
                                    "Anzahl_Prüfungen": "9"
                                }
                            ]
                        },
                        "text/html": [
                            "<table>",
                            "<tr><th>Anzahl_Prüfungen</th></tr>",
                            "<tr><td>9</td></tr>",
                            "</table>"
                        ]
                    }
                }
            ],
            "execution_count": 10
        },
        {
            "cell_type": "code",
            "source": [
                "USE UniDatenbank;\r\n",
                "select count(*) as Anzahl_Studenten \r\n",
                "from VorlesungBesuch \r\n",
                "where VorlNr = (select VorlNr from Vorlesungen where Titel = 'Kinetik') \r\n",
                "-- oder \r\n",
                "select v.Titel, count(*) as Anzahl_Studenten\r\n",
                "from VorlesungBesuch vb \r\n",
                "inner join Vorlesungen v on v.VorlNr = vb.VorlNr \r\n",
                "where v.Titel = 'Kinetik'\r\n",
                "group by v.Titel "
            ],
            "metadata": {
                "azdata_cell_guid": "6fb7ef7b-dcc8-4868-a1e5-62d22016af03",
                "language": "sql"
            },
            "outputs": [
                {
                    "output_type": "display_data",
                    "data": {
                        "text/html": "(1 row affected)"
                    },
                    "metadata": {}
                },
                {
                    "output_type": "display_data",
                    "data": {
                        "text/html": "(1 row affected)"
                    },
                    "metadata": {}
                },
                {
                    "output_type": "display_data",
                    "data": {
                        "text/html": "Total execution time: 00:00:00.015"
                    },
                    "metadata": {}
                },
                {
                    "output_type": "execute_result",
                    "metadata": {},
                    "execution_count": 11,
                    "data": {
                        "application/vnd.dataresource+json": {
                            "schema": {
                                "fields": [
                                    {
                                        "name": "Anzahl_Studenten"
                                    }
                                ]
                            },
                            "data": [
                                {
                                    "Anzahl_Studenten": "4"
                                }
                            ]
                        },
                        "text/html": [
                            "<table>",
                            "<tr><th>Anzahl_Studenten</th></tr>",
                            "<tr><td>4</td></tr>",
                            "</table>"
                        ]
                    }
                },
                {
                    "output_type": "execute_result",
                    "metadata": {},
                    "execution_count": 11,
                    "data": {
                        "application/vnd.dataresource+json": {
                            "schema": {
                                "fields": [
                                    {
                                        "name": "Titel"
                                    },
                                    {
                                        "name": "Anzahl_Studenten"
                                    }
                                ]
                            },
                            "data": [
                                {
                                    "Titel": "Kinetik",
                                    "Anzahl_Studenten": "4"
                                }
                            ]
                        },
                        "text/html": [
                            "<table>",
                            "<tr><th>Titel</th><th>Anzahl_Studenten</th></tr>",
                            "<tr><td>Kinetik</td><td>4</td></tr>",
                            "</table>"
                        ]
                    }
                }
            ],
            "execution_count": 11
        },
        {
            "cell_type": "code",
            "source": [
                "USE UniDatenbank;\r\n",
                "select Vorname, Nachname \r\n",
                "from Studenten where StudNr in (\r\n",
                "    select StudNr \r\n",
                "    from VorlesungBesuch \r\n",
                "    group by StudNr\r\n",
                "    having count(*) >= 3\r\n",
                ")"
            ],
            "metadata": {
                "azdata_cell_guid": "2a69c656-20a4-4524-be3e-33096e8c35d3",
                "language": "sql"
            },
            "outputs": [
                {
                    "output_type": "display_data",
                    "data": {
                        "text/html": "(3 rows affected)"
                    },
                    "metadata": {}
                },
                {
                    "output_type": "display_data",
                    "data": {
                        "text/html": "Total execution time: 00:00:00.011"
                    },
                    "metadata": {}
                },
                {
                    "output_type": "execute_result",
                    "metadata": {},
                    "execution_count": 12,
                    "data": {
                        "application/vnd.dataresource+json": {
                            "schema": {
                                "fields": [
                                    {
                                        "name": "Vorname"
                                    },
                                    {
                                        "name": "Nachname"
                                    }
                                ]
                            },
                            "data": [
                                {
                                    "Vorname": "Miguel",
                                    "Nachname": "Sanchez"
                                },
                                {
                                    "Vorname": "Slobodan",
                                    "Nachname": "Stojanovic"
                                },
                                {
                                    "Vorname": "Marian",
                                    "Nachname": "Genkinger"
                                }
                            ]
                        },
                        "text/html": [
                            "<table>",
                            "<tr><th>Vorname</th><th>Nachname</th></tr>",
                            "<tr><td>Miguel</td><td>Sanchez</td></tr>",
                            "<tr><td>Slobodan</td><td>Stojanovic</td></tr>",
                            "<tr><td>Marian</td><td>Genkinger</td></tr>",
                            "</table>"
                        ]
                    }
                }
            ],
            "execution_count": 12
        },
        {
            "cell_type": "code",
            "source": [
                "USE    UniDatenbank;\r\n",
                "select count(*) as Anzahl_Pruefungen \r\n",
                "from Pruefungen \r\n",
                "where PersNr = 7"
            ],
            "metadata": {
                "azdata_cell_guid": "7e6db7e9-b9a3-4188-8a4b-b33e7f6cd519",
                "language": "sql"
            },
            "outputs": [
                {
                    "output_type": "display_data",
                    "data": {
                        "text/html": "(1 row affected)"
                    },
                    "metadata": {}
                },
                {
                    "output_type": "display_data",
                    "data": {
                        "text/html": "Total execution time: 00:00:00.006"
                    },
                    "metadata": {}
                },
                {
                    "output_type": "execute_result",
                    "metadata": {},
                    "execution_count": 13,
                    "data": {
                        "application/vnd.dataresource+json": {
                            "schema": {
                                "fields": [
                                    {
                                        "name": "Anzahl_Pruefungen"
                                    }
                                ]
                            },
                            "data": [
                                {
                                    "Anzahl_Pruefungen": "3"
                                }
                            ]
                        },
                        "text/html": [
                            "<table>",
                            "<tr><th>Anzahl_Pruefungen</th></tr>",
                            "<tr><td>3</td></tr>",
                            "</table>"
                        ]
                    }
                }
            ],
            "execution_count": 13
        },
        {
            "cell_type": "code",
            "source": [
                "USE UniDatenbank;\r\n",
                "SELECT count(*) as Anzahl_Note_55 \r\n",
                "from Pruefungen \r\n",
                "where Note = 5.5"
            ],
            "metadata": {
                "azdata_cell_guid": "8112bdde-3d90-49f1-a52e-f37cc613d830",
                "language": "sql"
            },
            "outputs": [
                {
                    "output_type": "display_data",
                    "data": {
                        "text/html": "(1 row affected)"
                    },
                    "metadata": {}
                },
                {
                    "output_type": "display_data",
                    "data": {
                        "text/html": "Total execution time: 00:00:00.004"
                    },
                    "metadata": {}
                },
                {
                    "output_type": "execute_result",
                    "metadata": {},
                    "execution_count": 15,
                    "data": {
                        "application/vnd.dataresource+json": {
                            "schema": {
                                "fields": [
                                    {
                                        "name": "Anzahl_Note_55"
                                    }
                                ]
                            },
                            "data": [
                                {
                                    "Anzahl_Note_55": "2"
                                }
                            ]
                        },
                        "text/html": [
                            "<table>",
                            "<tr><th>Anzahl_Note_55</th></tr>",
                            "<tr><td>2</td></tr>",
                            "</table>"
                        ]
                    }
                }
            ],
            "execution_count": 15
        },
        {
            "cell_type": "code",
            "source": [
                "USE UniDatenbank;\r\n",
                "select count(*) as Anzahl_Studenten\r\n",
                "from Studenten \r\n",
                "where Wohnort in ('Bern', 'Basel')"
            ],
            "metadata": {
                "azdata_cell_guid": "d296652a-8791-4dc7-98ef-abfda16cda4f",
                "language": "sql"
            },
            "outputs": [
                {
                    "output_type": "display_data",
                    "data": {
                        "text/html": "(1 row affected)"
                    },
                    "metadata": {}
                },
                {
                    "output_type": "display_data",
                    "data": {
                        "text/html": "Total execution time: 00:00:00.016"
                    },
                    "metadata": {}
                },
                {
                    "output_type": "execute_result",
                    "metadata": {},
                    "execution_count": 16,
                    "data": {
                        "application/vnd.dataresource+json": {
                            "schema": {
                                "fields": [
                                    {
                                        "name": "Anzahl_Studenten"
                                    }
                                ]
                            },
                            "data": [
                                {
                                    "Anzahl_Studenten": "4"
                                }
                            ]
                        },
                        "text/html": [
                            "<table>",
                            "<tr><th>Anzahl_Studenten</th></tr>",
                            "<tr><td>4</td></tr>",
                            "</table>"
                        ]
                    }
                }
            ],
            "execution_count": 16
        },
        {
            "cell_type": "code",
            "source": [
                "USE UniDatenbank;\r\n",
                "select count(*) as Anzahl_Studenten\r\n",
                "from Studenten \r\n",
                "where Wohnort is NULL or Wohnort = ''"
            ],
            "metadata": {
                "azdata_cell_guid": "61d7cb29-fbbb-4984-9d17-6f7efb176f8f",
                "language": "sql"
            },
            "outputs": [
                {
                    "output_type": "display_data",
                    "data": {
                        "text/html": "(1 row affected)"
                    },
                    "metadata": {}
                },
                {
                    "output_type": "display_data",
                    "data": {
                        "text/html": "Total execution time: 00:00:00.002"
                    },
                    "metadata": {}
                },
                {
                    "output_type": "execute_result",
                    "metadata": {},
                    "execution_count": 19,
                    "data": {
                        "application/vnd.dataresource+json": {
                            "schema": {
                                "fields": [
                                    {
                                        "name": "Anzahl_Studenten"
                                    }
                                ]
                            },
                            "data": [
                                {
                                    "Anzahl_Studenten": "4"
                                }
                            ]
                        },
                        "text/html": [
                            "<table>",
                            "<tr><th>Anzahl_Studenten</th></tr>",
                            "<tr><td>4</td></tr>",
                            "</table>"
                        ]
                    }
                }
            ],
            "execution_count": 19
        },
        {
            "cell_type": "code",
            "source": [
                "USE UniDatenbank;\r\n",
                "select Vorname \r\n",
                "from Assistenten \r\n",
                "where Geburtsdatum = (select min(Geburtsdatum) from Assistenten)"
            ],
            "metadata": {
                "azdata_cell_guid": "55de8faf-e584-4b63-a1ff-0bbbfeeade2a",
                "language": "sql"
            },
            "outputs": [
                {
                    "output_type": "display_data",
                    "data": {
                        "text/html": "(1 row affected)"
                    },
                    "metadata": {}
                },
                {
                    "output_type": "display_data",
                    "data": {
                        "text/html": "Total execution time: 00:00:00.008"
                    },
                    "metadata": {}
                },
                {
                    "output_type": "execute_result",
                    "metadata": {},
                    "execution_count": 20,
                    "data": {
                        "application/vnd.dataresource+json": {
                            "schema": {
                                "fields": [
                                    {
                                        "name": "Vorname"
                                    }
                                ]
                            },
                            "data": [
                                {
                                    "Vorname": "Andrea"
                                }
                            ]
                        },
                        "text/html": [
                            "<table>",
                            "<tr><th>Vorname</th></tr>",
                            "<tr><td>Andrea</td></tr>",
                            "</table>"
                        ]
                    }
                }
            ],
            "execution_count": 20
        },
        {
            "cell_type": "code",
            "source": [
                "USE UniDatenbank;\r\n",
                "select avg(Note) as Durchschnittsnote\r\n",
                "from Pruefungen \r\n",
                "where StudNr = 24"
            ],
            "metadata": {
                "azdata_cell_guid": "e6904dc1-bd8b-421b-868e-7dec5657a644",
                "language": "sql"
            },
            "outputs": [
                {
                    "output_type": "display_data",
                    "data": {
                        "text/html": "(1 row affected)"
                    },
                    "metadata": {}
                },
                {
                    "output_type": "display_data",
                    "data": {
                        "text/html": "Total execution time: 00:00:00.012"
                    },
                    "metadata": {}
                },
                {
                    "output_type": "execute_result",
                    "metadata": {},
                    "execution_count": 21,
                    "data": {
                        "application/vnd.dataresource+json": {
                            "schema": {
                                "fields": [
                                    {
                                        "name": "Durchschnittsnote"
                                    }
                                ]
                            },
                            "data": [
                                {
                                    "Durchschnittsnote": "4.750000"
                                }
                            ]
                        },
                        "text/html": [
                            "<table>",
                            "<tr><th>Durchschnittsnote</th></tr>",
                            "<tr><td>4.750000</td></tr>",
                            "</table>"
                        ]
                    }
                }
            ],
            "execution_count": 21
        },
        {
            "cell_type": "code",
            "source": [
                "USE UniDatenbank;\r\n",
                "select v1.Titel as Vorgänger, v2.Titel as Nachfolger \r\n",
                "from Voraussetzung vor \r\n",
                "inner join Vorlesungen v1 ON vor.Vorgaenger = v1.VorlNr \r\n",
                "inner join Vorlesungen v2 ON vor.Nachfolger = v2.VorlNr "
            ],
            "metadata": {
                "azdata_cell_guid": "323766c2-09db-4aaf-ba56-d70e7b79b3ab",
                "language": "sql"
            },
            "outputs": [
                {
                    "output_type": "display_data",
                    "data": {
                        "text/html": "(2 rows affected)"
                    },
                    "metadata": {}
                },
                {
                    "output_type": "display_data",
                    "data": {
                        "text/html": "Total execution time: 00:00:00.011"
                    },
                    "metadata": {}
                },
                {
                    "output_type": "execute_result",
                    "metadata": {},
                    "execution_count": 22,
                    "data": {
                        "application/vnd.dataresource+json": {
                            "schema": {
                                "fields": [
                                    {
                                        "name": "Vorgänger"
                                    },
                                    {
                                        "name": "Nachfolger"
                                    }
                                ]
                            },
                            "data": [
                                {
                                    "Vorgänger": "Elektrotechnik",
                                    "Nachfolger": "Radiologie"
                                },
                                {
                                    "Vorgänger": "Radiologie",
                                    "Nachfolger": "Quantenphysik"
                                }
                            ]
                        },
                        "text/html": [
                            "<table>",
                            "<tr><th>Vorgänger</th><th>Nachfolger</th></tr>",
                            "<tr><td>Elektrotechnik</td><td>Radiologie</td></tr>",
                            "<tr><td>Radiologie</td><td>Quantenphysik</td></tr>",
                            "</table>"
                        ]
                    }
                }
            ],
            "execution_count": 22
        },
        {
            "cell_type": "code",
            "source": [
                "USE UniDatenbank;\r\n",
                "select case when Chef is null then 'nein, ' + Vorname + ' hat keinen Chef' else 'ja, ' + Vorname + ' hat einen Chef' end  \r\n",
                "from Assistenten \r\n",
                "where Geburtsdatum = (select min(Geburtsdatum) from Assistenten)"
            ],
            "metadata": {
                "azdata_cell_guid": "ee21c39e-0bd2-47af-b4ea-db6672ca0321",
                "language": "sql"
            },
            "outputs": [
                {
                    "output_type": "display_data",
                    "data": {
                        "text/html": "(1 row affected)"
                    },
                    "metadata": {}
                },
                {
                    "output_type": "display_data",
                    "data": {
                        "text/html": "Total execution time: 00:00:00.010"
                    },
                    "metadata": {}
                },
                {
                    "output_type": "execute_result",
                    "metadata": {},
                    "execution_count": 23,
                    "data": {
                        "application/vnd.dataresource+json": {
                            "schema": {
                                "fields": [
                                    {
                                        "name": "(No column name)"
                                    }
                                ]
                            },
                            "data": [
                                {
                                    "(No column name)": "ja, Andrea hat einen Chef"
                                }
                            ]
                        },
                        "text/html": [
                            "<table>",
                            "<tr><th>(No column name)</th></tr>",
                            "<tr><td>ja, Andrea hat einen Chef</td></tr>",
                            "</table>"
                        ]
                    }
                }
            ],
            "execution_count": 23
        }
    ]
}